{
 "cells": [
  {
   "cell_type": "markdown",
   "metadata": {},
   "source": [
    "# How does asynchronous functions work?"
   ]
  },
  {
   "cell_type": "markdown",
   "metadata": {},
   "source": [
    "## Promises"
   ]
  },
  {
   "cell_type": "markdown",
   "metadata": {},
   "source": [
    "Promises are objects that represent the eventual completion or failure of an asynchronous operation and its resulting value. A promise can be in one of three states: pending, fulfilled, or rejected."
   ]
  },
  {
   "cell_type": "code",
   "execution_count": null,
   "metadata": {
    "vscode": {
     "languageId": "javascript"
    }
   },
   "outputs": [],
   "source": [
    "const myPromise = new Promise((resolve, reject) => {\n",
    "  setTimeout(() => {\n",
    "    resolve('Operation completed successfully');\n",
    "  }, 1000);\n",
    "});\n",
    "\n",
    "myPromise.then((result) => {\n",
    "  console.log(result);\n",
    "});"
   ]
  },
  {
   "cell_type": "markdown",
   "metadata": {},
   "source": [
    "## Async Function"
   ]
  },
  {
   "cell_type": "markdown",
   "metadata": {},
   "source": [
    "An async function is a function that operates asynchronously via the event loop, using the `async` keyword. Inside an async function, you can use the `await` keyword to pause the execution of the function until the promise is resolved."
   ]
  },
  {
   "cell_type": "code",
   "execution_count": null,
   "metadata": {
    "vscode": {
     "languageId": "javascript"
    }
   },
   "outputs": [],
   "source": [
    "async function myAsyncFunction() {\n",
    "  const result = await myPromise;\n",
    "  console.log(result);\n",
    "}\n",
    "\n",
    "myAsyncFunction();"
   ]
  },
  {
   "cell_type": "markdown",
   "metadata": {},
   "source": [
    "Inside an async function, the `await` keyword is used to wait for a Promise to resolve. While waiting for the promise to resolve, the event loop can continue executing other tasks."
   ]
  },
  {
   "cell_type": "markdown",
   "metadata": {},
   "source": [
    "## Handling Errors"
   ]
  },
  {
   "cell_type": "markdown",
   "metadata": {},
   "source": [
    "Async functions can handle errors using try-catch blocks. If a promise is rejected, the control will jump to the nearest catch block."
   ]
  },
  {
   "cell_type": "code",
   "execution_count": null,
   "metadata": {
    "vscode": {
     "languageId": "javascript"
    }
   },
   "outputs": [],
   "source": [
    "async function myAsyncFunction() {\n",
    "  try {\n",
    "    const result = await myPromise;\n",
    "    console.log(result);\n",
    "  } catch (error) {\n",
    "    console.error('Error:', error);\n",
    "  }\n",
    "}"
   ]
  },
  {
   "cell_type": "markdown",
   "metadata": {},
   "source": [
    "If `myPromise` is rejected, the error will be caught in the catch block."
   ]
  },
  {
   "cell_type": "markdown",
   "metadata": {},
   "source": [
    "## Multiple Async Operations"
   ]
  },
  {
   "cell_type": "markdown",
   "metadata": {},
   "source": [
    "You can use `Promise.all` to handle multiple asynchronous operations concurrently."
   ]
  },
  {
   "cell_type": "code",
   "execution_count": null,
   "metadata": {
    "vscode": {
     "languageId": "javascript"
    }
   },
   "outputs": [],
   "source": [
    "async function multipleAsyncOperations() {\n",
    "  const result1 = asyncOperation1();\n",
    "  const result2 = asyncOperation2();\n",
    "  \n",
    "  // Wait for both promises to resolve\n",
    "  const [res1, res2] = await Promise.all([result1, result2]);\n",
    "\n",
    "  console.log(res1, res2);\n",
    "}"
   ]
  },
  {
   "cell_type": "markdown",
   "metadata": {},
   "source": [
    "This ensures that both `asyncOperation1` and `asyncOperation2` are completed before moving on."
   ]
  },
  {
   "cell_type": "markdown",
   "metadata": {},
   "source": [
    "## Conclusion"
   ]
  },
  {
   "cell_type": "markdown",
   "metadata": {},
   "source": [
    "Async functions provide a cleaner and more readable way to write asynchronous code in JavaScript, making it easier to reason about and maintain."
   ]
  }
 ],
 "metadata": {
  "language_info": {
   "name": "python"
  }
 },
 "nbformat": 4,
 "nbformat_minor": 2
}
