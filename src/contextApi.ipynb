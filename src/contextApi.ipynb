{
 "cells": [
  {
   "cell_type": "markdown",
   "metadata": {},
   "source": [
    "# useContext and Reducers"
   ]
  },
  {
   "cell_type": "markdown",
   "metadata": {},
   "source": [
    "First we create the `CounterContext.js` file"
   ]
  },
  {
   "cell_type": "code",
   "execution_count": null,
   "metadata": {
    "vscode": {
     "languageId": "javascript"
    }
   },
   "outputs": [],
   "source": [
    "// CounterContext.js\n",
    "import React, { createContext, useReducer, useContext } from 'react';\n",
    "\n",
    "// Step 1: Create the Reducer\n",
    "const counterReducer = (state, action) => {\n",
    "  switch (action.type) {\n",
    "    case 'INCREMENT':\n",
    "      return { count: state.count + 1 };\n",
    "    case 'DECREMENT':\n",
    "      return { count: state.count - 1 };\n",
    "    default:\n",
    "      return state;\n",
    "  }\n",
    "};\n",
    "\n",
    "// Step 2: Create the Context\n",
    "const CounterContext = createContext();\n",
    "\n",
    "// Step 3: Create Context Provider\n",
    "const CounterProvider = ({ children }) => {\n",
    "  // Use useReducer to set up the state and the dispatch function\n",
    "  const [state, dispatch] = useReducer(counterReducer, { count: 0 });\n",
    "\n",
    "  // Define dispatch functions\n",
    "  const increment = () => {\n",
    "    dispatch({ type: 'INCREMENT' });\n",
    "  };\n",
    "\n",
    "  const decrement = () => {\n",
    "    dispatch({ type: 'DECREMENT' });\n",
    "  };\n",
    "\n",
    "  // Provide state and dispatch functions through the context\n",
    "  return (\n",
    "    <CounterContext.Provider value={{ state, increment, decrement }}>\n",
    "      {children}\n",
    "    </CounterContext.Provider>\n",
    "  );\n",
    "};\n",
    "\n",
    "// Step 4: Create Hooks for Simpler Usage\n",
    "const useCounter = () => {\n",
    "  const context = useContext(CounterContext);\n",
    "  if (!context) {\n",
    "    throw new Error('useCounter must be used within a CounterProvider');\n",
    "  }\n",
    "  return context;\n",
    "};\n",
    "\n",
    "export { CounterProvider, useCounter };\n"
   ]
  },
  {
   "cell_type": "markdown",
   "metadata": {},
   "source": [
    "**Reducer:**\n",
    "\n",
    "  - The counterReducer function is responsible for handling different actions and updating the state accordingly.\n",
    "\n",
    "**Context:**\n",
    "\n",
    "  - The CounterContext is created using createContext(). It provides a central place to store and share the state and dispatch functions.\n",
    "\n",
    "**Provider:**\n",
    "\n",
    "  - The CounterProvider component uses useReducer to set up the state and dispatch function.\n",
    "  - It defines increment and decrement functions that dispatch actions to the reducer.\n",
    "  - It provides the state and dispatch functions through the context using CounterContext.Provider.\n",
    "\n",
    "**Custom Hook (useCounter):**\n",
    "\n",
    "  - The useCounter hook simplifies the usage of the context in components.\n",
    "  - It uses the useContext hook to access the context and returns the context value.\n",
    "  - It includes a check to ensure that components using this hook are wrapped in the CounterProvider."
   ]
  },
  {
   "cell_type": "code",
   "execution_count": null,
   "metadata": {
    "vscode": {
     "languageId": "javascript"
    }
   },
   "outputs": [],
   "source": [
    "// CounterDisplay.js\n",
    "import React from 'react';\n",
    "import { useCounter } from './CounterContext';\n",
    "\n",
    "const CounterDisplay = () => {\n",
    "  // Use the custom hook to get access to state\n",
    "  const { state } = useCounter();\n",
    "\n",
    "  return <div>Count: {state.count}</div>;\n",
    "};"
   ]
  },
  {
   "cell_type": "code",
   "execution_count": null,
   "metadata": {
    "vscode": {
     "languageId": "javascript"
    }
   },
   "outputs": [],
   "source": [
    "// CounterControls.js\n",
    "import React from 'react';\n",
    "import { useCounter } from './CounterContext';\n",
    "\n",
    "const CounterControls = () => {\n",
    "  // Use the custom hook to get access to dispatch functions\n",
    "  const { increment, decrement } = useCounter();\n",
    "\n",
    "  return (\n",
    "    <div>\n",
    "      <button onClick={increment}>Increment</button>\n",
    "      <button onClick={decrement}>Decrement</button>\n",
    "    </div>\n",
    "  );\n",
    "};"
   ]
  },
  {
   "cell_type": "markdown",
   "metadata": {},
   "source": [
    "**Using in Components (CounterDisplay and CounterControls):**\n",
    "\n",
    "  - Components like CounterDisplay and CounterControls use the custom hook (useCounter) to access the state and dispatch functions from the context.\n",
    "  - This makes the components independent of the implementation details of the state management."
   ]
  }
 ],
 "metadata": {
  "language_info": {
   "name": "python"
  }
 },
 "nbformat": 4,
 "nbformat_minor": 2
}
