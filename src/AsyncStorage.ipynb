{
 "cells": [
  {
   "cell_type": "markdown",
   "metadata": {},
   "source": [
    "# AsyncStorage"
   ]
  },
  {
   "cell_type": "markdown",
   "metadata": {},
   "source": [
    "## Saving data"
   ]
  },
  {
   "cell_type": "markdown",
   "metadata": {},
   "source": [
    "After importing the AsyncStorage library, create a function to save data. AsyncStorage's setItem method is used to save a value for a given key."
   ]
  },
  {
   "cell_type": "code",
   "execution_count": null,
   "metadata": {
    "vscode": {
     "languageId": "javascript"
    }
   },
   "outputs": [],
   "source": [
    "const storeData = async (value) => {\n",
    "  try {\n",
    "    await AsyncStorage.setItem('@exampleKey', value)\n",
    "  } catch (e) {\n",
    "    console.error(e)\n",
    "  }\n",
    "}"
   ]
  },
  {
   "cell_type": "markdown",
   "metadata": {},
   "source": [
    "In this function, `@exampleKey` is the key under which the data is stored, and `value` is the data you want to store."
   ]
  },
  {
   "cell_type": "markdown",
   "metadata": {},
   "source": [
    "### Naming convention for keys\n",
    "`@` symbol at the beginning of the key, it's not a requirement, but rather a naming convention. The idea behind this convention is to help differentiate your AsyncStorage keys from others, especially in larger projects or when using libraries that might also use AsyncStorage. It's similar to how developers sometimes use prefixes in global variables or database entries to avoid naming conflicts."
   ]
  },
  {
   "cell_type": "markdown",
   "metadata": {},
   "source": [
    "## Reading data"
   ]
  },
  {
   "cell_type": "markdown",
   "metadata": {},
   "source": [
    "Similarly, create a function to read the data. The getItem method is used to retrieve data."
   ]
  },
  {
   "cell_type": "code",
   "execution_count": null,
   "metadata": {
    "vscode": {
     "languageId": "javascript"
    }
   },
   "outputs": [],
   "source": [
    "const getData = async () => {\n",
    "  try {\n",
    "    const value = await AsyncStorage.getItem(\"@exampleKey\");\n",
    "    if (value !== null) {\n",
    "      // if there is no value in the AsyncStorage, handle it here\n",
    "    }\n",
    "  } catch (e) {\n",
    "    console.error(e);\n",
    "  }\n",
    "};\n"
   ]
  },
  {
   "cell_type": "markdown",
   "metadata": {},
   "source": [
    "## Using in a component"
   ]
  },
  {
   "cell_type": "code",
   "execution_count": null,
   "metadata": {
    "vscode": {
     "languageId": "javascript"
    }
   },
   "outputs": [],
   "source": [
    "import React from 'react';\n",
    "import { View, Button } from 'react-native';\n",
    "\n",
    "const App = () => {\n",
    "  const saveData = () => {\n",
    "    storeData('Some data to store');\n",
    "  };\n",
    "\n",
    "  const loadData = async () => {\n",
    "    const retrievedData = await getData();\n",
    "    console.log(retrievedData);\n",
    "  };\n",
    "\n",
    "  return (\n",
    "    <View>\n",
    "      <Button onPress={saveData} title=\"Save Data\" />\n",
    "      <Button onPress={loadData} title=\"Load Data\" />\n",
    "    </View>\n",
    "  );\n",
    "};\n",
    "\n",
    "export default App;"
   ]
  },
  {
   "cell_type": "markdown",
   "metadata": {},
   "source": [
    "In this example, when the `Save Data` button is pressed, it saves a string to AsyncStorage. When the `Load Data` button is pressed, it retrieves and logs this data to the console."
   ]
  },
  {
   "cell_type": "markdown",
   "metadata": {},
   "source": [
    "## Important Notes"
   ]
  },
  {
   "cell_type": "markdown",
   "metadata": {},
   "source": [
    "- AsyncStorage operates asynchronously and returns a Promise.\n",
    "- It's important to handle exceptions to cover any potential read/write errors.\n",
    "- Since AsyncStorage is unencrypted, it's not suitable for storing sensitive data.\n",
    "- For large or complex data structures, consider serializing them (e.g., JSON.stringify) before storing."
   ]
  }
 ],
 "metadata": {
  "language_info": {
   "name": "python"
  }
 },
 "nbformat": 4,
 "nbformat_minor": 2
}
